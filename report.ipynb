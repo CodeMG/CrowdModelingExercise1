{
 "cells": [
  {
   "cell_type": "code",
   "execution_count": 1,
   "metadata": {},
   "outputs": [],
   "source": [
    "%load_ext autoreload\n",
    "%autoreload 2\n",
    "\n",
    "from ipycanvas import Canvas\n",
    "import ipywidgets as widgets\n",
    "from ipywidgets import interact\n",
    "\n",
    "import numpy as np\n",
    "\n",
    "from lib.grid import Grid\n",
    "from lib.draw import GridDrawer\n",
    "from lib.update_schemes import EuclideanUpdateScheme\n",
    "from lib.update_schemes import EuclideanInteractiveUpdateScheme, EuclideanObstacleAvoidingUpdateScheme, DijkstraUpdateScheme\n",
    "from lib.simulator import simulate"
   ]
  },
  {
   "cell_type": "markdown",
   "metadata": {},
   "source": [
    "# Task 1"
   ]
  },
  {
   "cell_type": "markdown",
   "metadata": {},
   "source": [
    "## Create the grid"
   ]
  },
  {
   "cell_type": "code",
   "execution_count": 2,
   "metadata": {},
   "outputs": [],
   "source": [
    "grid = Grid(\n",
    "    rows=5,\n",
    "    columns=5,\n",
    "    pedestrians=[\n",
    "        (0, 1),\n",
    "        (1, 0)\n",
    "    ],\n",
    "    obstacles=[\n",
    "        (4, 0),\n",
    "        (0, 4)\n",
    "    ],\n",
    "    target=(2, 3)\n",
    ")"
   ]
  },
  {
   "cell_type": "markdown",
   "metadata": {},
   "source": [
    "## Draw the grid"
   ]
  },
  {
   "cell_type": "code",
   "execution_count": 3,
   "metadata": {},
   "outputs": [
    {
     "output_type": "display_data",
     "data": {
      "text/plain": "Canvas(height=300, width=300)",
      "application/vnd.jupyter.widget-view+json": {
       "version_major": 2,
       "version_minor": 0,
       "model_id": "898316626be44eda86162ee1aaeeeb64"
      }
     },
     "metadata": {}
    }
   ],
   "source": [
    "canvas = Canvas(width=300, height=300)\n",
    "grid_drawer = GridDrawer(canvas)\n",
    "grid_drawer.draw(grid)"
   ]
  },
  {
   "cell_type": "markdown",
   "metadata": {},
   "source": [
    "# Task 2"
   ]
  },
  {
   "cell_type": "markdown",
   "metadata": {},
   "source": [
    "## Create the grid"
   ]
  },
  {
   "cell_type": "code",
   "execution_count": 4,
   "metadata": {},
   "outputs": [],
   "source": [
    "grid = Grid(\n",
    "    rows=50,\n",
    "    columns=50,\n",
    "    pedestrians=[\n",
    "        (4, 24)\n",
    "    ],\n",
    "    obstacles=[],\n",
    "    target=(24, 24)\n",
    ")"
   ]
  },
  {
   "cell_type": "markdown",
   "metadata": {},
   "source": [
    "## Define the update scheme and run the simulation"
   ]
  },
  {
   "cell_type": "code",
   "execution_count": 5,
   "metadata": {},
   "outputs": [],
   "source": [
    "update_scheme = EuclideanUpdateScheme()\n",
    "states = simulate(grid, update_scheme, 25)"
   ]
  },
  {
   "cell_type": "markdown",
   "metadata": {},
   "source": [
    "## Visualize the simulation"
   ]
  },
  {
   "cell_type": "code",
   "execution_count": 6,
   "metadata": {},
   "outputs": [
    {
     "output_type": "display_data",
     "data": {
      "text/plain": "interactive(children=(IntSlider(value=0, description='step', max=25), Output()), _dom_classes=('widget-interac…",
      "application/vnd.jupyter.widget-view+json": {
       "version_major": 2,
       "version_minor": 0,
       "model_id": "d42b541680594c6680b986bcb2214ac8"
      }
     },
     "metadata": {}
    },
    {
     "output_type": "execute_result",
     "data": {
      "text/plain": [
       "<function __main__.draw_simulation_step_1(step)>"
      ]
     },
     "metadata": {},
     "execution_count": 6
    }
   ],
   "source": [
    "canvas_1 = Canvas(width=300, height=300)\n",
    "grid_drawer_1 = GridDrawer(canvas_1)\n",
    "\n",
    "def draw_simulation_step_1(step):\n",
    "    return grid_drawer_1.draw(states[step])\n",
    "\n",
    "interact(draw_simulation_step_1, step=widgets.IntSlider(min=0, max=25, step=1, value=0))"
   ]
  },
  {
   "cell_type": "markdown",
   "metadata": {},
   "source": [
    "# Task 3"
   ]
  },
  {
   "cell_type": "markdown",
   "metadata": {},
   "source": [
    "## Create the Pedestrians"
   ]
  },
  {
   "cell_type": "code",
   "execution_count": 7,
   "metadata": {},
   "outputs": [],
   "source": [
    "pedestrians = []\n",
    "targetPos = (25,25)\n",
    "distance = 25\n",
    "for i in range(0,5):\n",
    "    sin = np.sin((np.pi*2 / 5)*i)\n",
    "    cos = np.cos((np.pi*2 / 5)*i)\n",
    "    newX = -distance * cos - 0 * sin\n",
    "    newY = -distance * sin + 0 * cos\n",
    "    pedestrians.append(((int)(newX+targetPos[0]),(int)(newY+targetPos[1])))"
   ]
  },
  {
   "cell_type": "markdown",
   "metadata": {},
   "source": [
    "## Create the Grid"
   ]
  },
  {
   "cell_type": "code",
   "execution_count": 8,
   "metadata": {},
   "outputs": [],
   "source": [
    "grid = Grid(\n",
    "    rows=50,\n",
    "    columns=50,\n",
    "    pedestrians = pedestrians,\n",
    "    obstacles=[],\n",
    "    target=targetPos\n",
    ")"
   ]
  },
  {
   "cell_type": "markdown",
   "metadata": {},
   "source": [
    "## Use the old update scheme without avoidance"
   ]
  },
  {
   "cell_type": "code",
   "execution_count": 9,
   "metadata": {},
   "outputs": [],
   "source": [
    "update_scheme = EuclideanUpdateScheme()\n",
    "states_2 = simulate(grid, update_scheme, 30)"
   ]
  },
  {
   "cell_type": "markdown",
   "metadata": {},
   "source": [
    "## Visualize the simulation"
   ]
  },
  {
   "cell_type": "code",
   "execution_count": 10,
   "metadata": {},
   "outputs": [
    {
     "output_type": "display_data",
     "data": {
      "text/plain": "interactive(children=(IntSlider(value=0, description='step', max=30), Output()), _dom_classes=('widget-interac…",
      "application/vnd.jupyter.widget-view+json": {
       "version_major": 2,
       "version_minor": 0,
       "model_id": "6e5925a23d604bea8ad26ae8e052de4f"
      }
     },
     "metadata": {}
    },
    {
     "output_type": "execute_result",
     "data": {
      "text/plain": [
       "<function __main__.draw_simulation_step_2(step)>"
      ]
     },
     "metadata": {},
     "execution_count": 10
    }
   ],
   "source": [
    "canvas_2 = Canvas(width=800, height=800)\n",
    "grid_drawer_2 = GridDrawer(canvas_2)\n",
    "\n",
    "def draw_simulation_step_2(step):\n",
    "    return grid_drawer_2.draw(states_2[step])\n",
    "\n",
    "interact(draw_simulation_step_2, step=widgets.IntSlider(min=0, max=30, step=1, value=0))"
   ]
  },
  {
   "cell_type": "markdown",
   "metadata": {},
   "source": [
    "## Use the new update scheme with avoidance"
   ]
  },
  {
   "cell_type": "markdown",
   "metadata": {},
   "source": [
    "### Create new grid"
   ]
  },
  {
   "cell_type": "code",
   "execution_count": 11,
   "metadata": {},
   "outputs": [],
   "source": [
    "grid = Grid(\n",
    "    rows=50,\n",
    "    columns=50,\n",
    "    pedestrians = pedestrians,\n",
    "    obstacles=[],\n",
    "    target=targetPos\n",
    ")"
   ]
  },
  {
   "cell_type": "markdown",
   "metadata": {},
   "source": [
    "### New update scheme"
   ]
  },
  {
   "cell_type": "code",
   "execution_count": 12,
   "metadata": {},
   "outputs": [],
   "source": [
    "update_scheme = EuclideanInteractiveUpdateScheme(5)\n",
    "states_3 = simulate(grid, update_scheme, 30)"
   ]
  },
  {
   "cell_type": "markdown",
   "metadata": {},
   "source": [
    "### Visualize the simulation"
   ]
  },
  {
   "cell_type": "code",
   "execution_count": 13,
   "metadata": {},
   "outputs": [
    {
     "output_type": "display_data",
     "data": {
      "text/plain": "interactive(children=(IntSlider(value=0, description='step', max=30), Output()), _dom_classes=('widget-interac…",
      "application/vnd.jupyter.widget-view+json": {
       "version_major": 2,
       "version_minor": 0,
       "model_id": "4f64a40a4ee74904bcfb7743321a51b9"
      }
     },
     "metadata": {}
    },
    {
     "output_type": "execute_result",
     "data": {
      "text/plain": [
       "<function __main__.draw_simulation_step_3(step)>"
      ]
     },
     "metadata": {},
     "execution_count": 13
    }
   ],
   "source": [
    "canvas_3 = Canvas(width=800, height=800)\n",
    "grid_drawer_3 = GridDrawer(canvas_3)\n",
    "\n",
    "def draw_simulation_step_3(step):\n",
    "    return grid_drawer_3.draw(states_3[step])\n",
    "\n",
    "interact(draw_simulation_step_3, step=widgets.IntSlider(min=0, max=30, step=1, value=0))"
   ]
  },
  {
   "cell_type": "markdown",
   "metadata": {},
   "source": [
    "# Task 4"
   ]
  },
  {
   "cell_type": "markdown",
   "metadata": {},
   "source": [
    "## Looking at the Bottleneck scenario with rudimentary obstacle avoidance"
   ]
  },
  {
   "cell_type": "markdown",
   "metadata": {},
   "source": [
    "## Create the grid"
   ]
  },
  {
   "cell_type": "code",
   "execution_count": 14,
   "metadata": {},
   "outputs": [],
   "source": [
    "grid = Grid(\n",
    "    rows=10,\n",
    "    columns=25,\n",
    "    pedestrians=[\n",
    "        (1, 0),\n",
    "        (2, 0),\n",
    "        (3, 0),\n",
    "        (4, 0),\n",
    "        (5, 0),\n",
    "        (6, 0),\n",
    "    ],\n",
    "    obstacles=[(0,12),(1,12),(2,12),(3,12),(4,12),(6,12),(7,12),(8,12),(9,12)],\n",
    "    target=(5, 24)\n",
    ")"
   ]
  },
  {
   "cell_type": "markdown",
   "metadata": {},
   "source": [
    "## Use the obstacle avoiding update scheme"
   ]
  },
  {
   "cell_type": "code",
   "execution_count": 15,
   "metadata": {},
   "outputs": [],
   "source": [
    "update_scheme = EuclideanObstacleAvoidingUpdateScheme(1.5)\n",
    "states_4 = simulate(grid, update_scheme, 30)"
   ]
  },
  {
   "cell_type": "markdown",
   "metadata": {},
   "source": [
    "## Visualize the scenario"
   ]
  },
  {
   "cell_type": "code",
   "execution_count": 16,
   "metadata": {},
   "outputs": [
    {
     "output_type": "display_data",
     "data": {
      "text/plain": "interactive(children=(IntSlider(value=0, description='step', max=25), Output()), _dom_classes=('widget-interac…",
      "application/vnd.jupyter.widget-view+json": {
       "version_major": 2,
       "version_minor": 0,
       "model_id": "da84b58e26fa41f1a924e45cf46aacf8"
      }
     },
     "metadata": {}
    },
    {
     "output_type": "execute_result",
     "data": {
      "text/plain": [
       "<function __main__.draw_simulation_step_4(step)>"
      ]
     },
     "metadata": {},
     "execution_count": 16
    }
   ],
   "source": [
    "canvas_4 = Canvas(width=500, height=200)\n",
    "grid_drawer_4 = GridDrawer(canvas_4)\n",
    "\n",
    "def draw_simulation_step_4(step):\n",
    "    return grid_drawer_4.draw(states_4[step])\n",
    "\n",
    "interact(draw_simulation_step_4, step=widgets.IntSlider(min=0, max=25, step=1, value=0))"
   ]
  },
  {
   "cell_type": "markdown",
   "metadata": {},
   "source": [
    "## Next the chicken test scenario"
   ]
  },
  {
   "cell_type": "code",
   "execution_count": 17,
   "metadata": {},
   "outputs": [],
   "source": [
    "grid = Grid(\n",
    "    rows=25,\n",
    "    columns=25,\n",
    "    pedestrians=[\n",
    "        (12, 0)\n",
    "    ],\n",
    "    obstacles=[(5,10),(5,11),(5,12),(5,13),(5,14),(5,15),\n",
    "               (15,10),(15,11),(15,12),(15,13),(15,14),(15,15),\n",
    "              (5,16),(6,16),(7,16),(8,16),(9,16),(10,16),(11,16),(12,16),(13,16),(14,16),(15,16)],\n",
    "    target=(12, 24)\n",
    ")"
   ]
  },
  {
   "cell_type": "markdown",
   "metadata": {},
   "source": [
    "## Still using the basic obstacle avoidance scheme"
   ]
  },
  {
   "cell_type": "code",
   "execution_count": 18,
   "metadata": {},
   "outputs": [],
   "source": [
    "update_scheme = EuclideanObstacleAvoidingUpdateScheme(1.5)\n",
    "states_5 = simulate(grid, update_scheme, 30)"
   ]
  },
  {
   "cell_type": "markdown",
   "metadata": {},
   "source": [
    "## Visualize the scenario"
   ]
  },
  {
   "cell_type": "code",
   "execution_count": 19,
   "metadata": {},
   "outputs": [
    {
     "output_type": "display_data",
     "data": {
      "text/plain": "interactive(children=(IntSlider(value=0, description='step', max=30), Output()), _dom_classes=('widget-interac…",
      "application/vnd.jupyter.widget-view+json": {
       "version_major": 2,
       "version_minor": 0,
       "model_id": "4ca2db07cb294c8fa16110154a526c85"
      }
     },
     "metadata": {}
    },
    {
     "output_type": "execute_result",
     "data": {
      "text/plain": [
       "<function __main__.draw_simulation_step_5(step)>"
      ]
     },
     "metadata": {},
     "execution_count": 19
    }
   ],
   "source": [
    "canvas_5 = Canvas(width=500, height=500)\n",
    "grid_drawer_5 = GridDrawer(canvas_5)\n",
    "\n",
    "def draw_simulation_step_5(step):\n",
    "    return grid_drawer_5.draw(states_5[step])\n",
    "\n",
    "interact(draw_simulation_step_5, step=widgets.IntSlider(min=0, max=30, step=1, value=0))"
   ]
  },
  {
   "source": [
    "## Try Dijkstra"
   ],
   "cell_type": "markdown",
   "metadata": {}
  },
  {
   "cell_type": "code",
   "execution_count": 20,
   "metadata": {},
   "outputs": [
    {
     "output_type": "display_data",
     "data": {
      "text/plain": "interactive(children=(IntSlider(value=0, description='step', max=30), Output()), _dom_classes=('widget-interac…",
      "application/vnd.jupyter.widget-view+json": {
       "version_major": 2,
       "version_minor": 0,
       "model_id": "748618c0305d49849d0bddd36d46cec0"
      }
     },
     "metadata": {}
    },
    {
     "output_type": "execute_result",
     "data": {
      "text/plain": [
       "<function __main__.draw_simulation_step_6(step)>"
      ]
     },
     "metadata": {},
     "execution_count": 20
    }
   ],
   "source": [
    "grid = Grid(\n",
    "    rows=25,\n",
    "    columns=25,\n",
    "    pedestrians=[\n",
    "        (12, 0)\n",
    "    ],\n",
    "    obstacles=[(5,10),(5,11),(5,12),(5,13),(5,14),(5,15),\n",
    "               (15,10),(15,11),(15,12),(15,13),(15,14),(15,15),\n",
    "              (5,16),(6,16),(7,16),(8,16),(9,16),(10,16),(11,16),(12,16),(13,16),(14,16),(15,16)],\n",
    "    target=(12, 24)\n",
    ")\n",
    "update_scheme = DijkstraUpdateScheme()\n",
    "states_6 = simulate(grid, update_scheme, 30)\n",
    "canvas_6 = Canvas(width=500, height=500)\n",
    "grid_drawer_6 = GridDrawer(canvas_6)\n",
    "\n",
    "def draw_simulation_step_6(step):\n",
    "    return grid_drawer_6.draw(states_6[step])\n",
    "\n",
    "interact(draw_simulation_step_6, step=widgets.IntSlider(min=0, max=30, step=1, value=0))"
   ]
  },
  {
   "cell_type": "code",
   "execution_count": null,
   "metadata": {},
   "outputs": [],
   "source": []
  }
 ],
 "metadata": {
  "kernelspec": {
   "name": "python3710jvsc74a57bd043be3fc3ce0c32e6056f0ff1f4fdbbd1abfb8e031641945fba76b64e6e8bff29",
   "display_name": "Python 3.7.10 64-bit ('crowd': conda)"
  },
  "language_info": {
   "codemirror_mode": {
    "name": "ipython",
    "version": 3
   },
   "file_extension": ".py",
   "mimetype": "text/x-python",
   "name": "python",
   "nbconvert_exporter": "python",
   "pygments_lexer": "ipython3",
   "version": "3.7.10"
  }
 },
 "nbformat": 4,
 "nbformat_minor": 4
}