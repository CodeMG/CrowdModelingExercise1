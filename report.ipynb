{
 "cells": [
  {
   "cell_type": "code",
   "execution_count": 4,
   "metadata": {},
   "outputs": [
    {
     "name": "stdout",
     "output_type": "stream",
     "text": [
      "The autoreload extension is already loaded. To reload it, use:\n",
      "  %reload_ext autoreload\n"
     ]
    }
   ],
   "source": [
    "%load_ext autoreload\n",
    "%autoreload 2\n",
    "\n",
    "from ipycanvas import Canvas\n",
    "import ipywidgets as widgets\n",
    "from ipywidgets import interact\n",
    "\n",
    "import numpy as np\n",
    "from scipy import interpolate\n",
    "import matplotlib.pyplot as plt\n",
    "\n",
    "from lib.grid import Grid\n",
    "from lib.draw import GridDrawer\n",
    "from lib.update_schemes import EuclideanUpdateScheme\n",
    "from lib.update_schemes import EuclideanInteractiveUpdateScheme, EuclideanObstacleAvoidingUpdateScheme, DijkstraUpdateScheme\n",
    "from lib.simulator import simulate"
   ]
  },
  {
   "cell_type": "markdown",
   "metadata": {},
   "source": [
    "# Task 1"
   ]
  },
  {
   "cell_type": "markdown",
   "metadata": {},
   "source": [
    "## Create the grid"
   ]
  },
  {
   "cell_type": "code",
   "execution_count": 2,
   "metadata": {},
   "outputs": [],
   "source": [
    "grid = Grid(\n",
    "    rows=5,\n",
    "    columns=5,\n",
    "    pedestrians=[\n",
    "        ((0, 1),1),\n",
    "        ((1, 0),1)\n",
    "    ],\n",
    "    obstacles=[\n",
    "        (4, 0),\n",
    "        (0, 4)\n",
    "    ],\n",
    "    target=(2, 3)\n",
    ")"
   ]
  },
  {
   "cell_type": "markdown",
   "metadata": {},
   "source": [
    "## Draw the grid"
   ]
  },
  {
   "cell_type": "code",
   "execution_count": 3,
   "metadata": {},
   "outputs": [
    {
     "data": {
      "application/vnd.jupyter.widget-view+json": {
       "model_id": "17b39c86948a4bc4a3f0e08058caba12",
       "version_major": 2,
       "version_minor": 0
      },
      "text/plain": [
       "Canvas(height=300, width=300)"
      ]
     },
     "metadata": {},
     "output_type": "display_data"
    }
   ],
   "source": [
    "canvas = Canvas(width=300, height=300)\n",
    "grid_drawer = GridDrawer(canvas)\n",
    "grid_drawer.draw(grid)"
   ]
  },
  {
   "cell_type": "markdown",
   "metadata": {},
   "source": [
    "# Task 2"
   ]
  },
  {
   "cell_type": "markdown",
   "metadata": {},
   "source": [
    "## Create the grid"
   ]
  },
  {
   "cell_type": "code",
   "execution_count": 4,
   "metadata": {},
   "outputs": [],
   "source": [
    "grid = Grid(\n",
    "    rows=50,\n",
    "    columns=50,\n",
    "    pedestrians=[\n",
    "        ((4, 24),1)\n",
    "    ],\n",
    "    obstacles=[],\n",
    "    target=(24, 24)\n",
    ")"
   ]
  },
  {
   "cell_type": "markdown",
   "metadata": {},
   "source": [
    "## Define the update scheme and run the simulation"
   ]
  },
  {
   "cell_type": "code",
   "execution_count": 5,
   "metadata": {},
   "outputs": [],
   "source": [
    "update_scheme = EuclideanUpdateScheme()\n",
    "states = simulate(grid, update_scheme, 25)"
   ]
  },
  {
   "cell_type": "markdown",
   "metadata": {},
   "source": [
    "## Visualize the simulation"
   ]
  },
  {
   "cell_type": "code",
   "execution_count": 7,
   "metadata": {},
   "outputs": [
    {
     "data": {
      "application/vnd.jupyter.widget-view+json": {
       "model_id": "0eefefa2882b4cfaaa4f6a846985979c",
       "version_major": 2,
       "version_minor": 0
      },
      "text/plain": [
       "interactive(children=(IntSlider(value=0, description='step', max=25), Output()), _dom_classes=('widget-interac…"
      ]
     },
     "metadata": {},
     "output_type": "display_data"
    },
    {
     "data": {
      "text/plain": [
       "<function __main__.draw_simulation_step(step)>"
      ]
     },
     "execution_count": 7,
     "metadata": {},
     "output_type": "execute_result"
    }
   ],
   "source": [
    "canvas = Canvas(width=300, height=300)\n",
    "grid_drawer = GridDrawer(canvas)\n",
    "\n",
    "def draw_simulation_step(step):\n",
    "    return grid_drawer.draw(states[step])\n",
    "\n",
    "interact(draw_simulation_step, step=widgets.IntSlider(min=0, max=25, step=1, value=0))"
   ]
  },
  {
   "cell_type": "markdown",
   "metadata": {},
   "source": [
    "# Task 3"
   ]
  },
  {
   "cell_type": "markdown",
   "metadata": {},
   "source": [
    "## Create the Pedestrians"
   ]
  },
  {
   "cell_type": "code",
   "execution_count": 8,
   "metadata": {},
   "outputs": [],
   "source": [
    "pedestrians = []\n",
    "targetPos = (25,25)\n",
    "distance = 25\n",
    "for i in range(0,5):\n",
    "    sin = np.sin((np.pi*2 / 5)*i)\n",
    "    cos = np.cos((np.pi*2 / 5)*i)\n",
    "    newX = -distance * cos - 0 * sin\n",
    "    newY = -distance * sin + 0 * cos\n",
    "    pedestrians.append(\n",
    "        ((int(newX+targetPos[0]), int(newY+targetPos[1])), 1)\n",
    "    )"
   ]
  },
  {
   "cell_type": "markdown",
   "metadata": {},
   "source": [
    "## Create the Grid"
   ]
  },
  {
   "cell_type": "code",
   "execution_count": 9,
   "metadata": {},
   "outputs": [],
   "source": [
    "grid = Grid(\n",
    "    rows=50,\n",
    "    columns=50,\n",
    "    pedestrians = pedestrians,\n",
    "    obstacles=[],\n",
    "    target=targetPos\n",
    ")"
   ]
  },
  {
   "cell_type": "markdown",
   "metadata": {},
   "source": [
    "## Use the old update scheme without avoidance"
   ]
  },
  {
   "cell_type": "code",
   "execution_count": 10,
   "metadata": {},
   "outputs": [],
   "source": [
    "update_scheme = EuclideanUpdateScheme()\n",
    "states_2 = simulate(grid, update_scheme, 30)"
   ]
  },
  {
   "cell_type": "markdown",
   "metadata": {},
   "source": [
    "## Visualize the simulation"
   ]
  },
  {
   "cell_type": "code",
   "execution_count": 11,
   "metadata": {},
   "outputs": [
    {
     "data": {
      "application/vnd.jupyter.widget-view+json": {
       "model_id": "07632cadd3494e03ab4fd7fb28fd8329",
       "version_major": 2,
       "version_minor": 0
      },
      "text/plain": [
       "interactive(children=(IntSlider(value=0, description='step', max=30), Output()), _dom_classes=('widget-interac…"
      ]
     },
     "metadata": {},
     "output_type": "display_data"
    },
    {
     "data": {
      "text/plain": [
       "<function __main__.draw_simulation_step_2(step)>"
      ]
     },
     "execution_count": 11,
     "metadata": {},
     "output_type": "execute_result"
    }
   ],
   "source": [
    "canvas = Canvas(width=800, height=800)\n",
    "grid_drawer = GridDrawer(canvas)\n",
    "\n",
    "def draw_simulation_step_2(step):\n",
    "    return grid_drawer.draw(states_2[step])\n",
    "\n",
    "interact(draw_simulation_step_2, step=widgets.IntSlider(min=0, max=30, step=1, value=0))"
   ]
  },
  {
   "cell_type": "markdown",
   "metadata": {},
   "source": [
    "## Use the new update scheme with avoidance"
   ]
  },
  {
   "cell_type": "markdown",
   "metadata": {},
   "source": [
    "### Create new grid"
   ]
  },
  {
   "cell_type": "code",
   "execution_count": 12,
   "metadata": {},
   "outputs": [],
   "source": [
    "grid = Grid(\n",
    "    rows=50,\n",
    "    columns=50,\n",
    "    pedestrians = pedestrians,\n",
    "    obstacles=[],\n",
    "    target=targetPos\n",
    ")"
   ]
  },
  {
   "cell_type": "markdown",
   "metadata": {},
   "source": [
    "### New update scheme"
   ]
  },
  {
   "cell_type": "code",
   "execution_count": 13,
   "metadata": {},
   "outputs": [],
   "source": [
    "update_scheme = EuclideanInteractiveUpdateScheme(5)\n",
    "states_3 = simulate(grid, update_scheme, 30)"
   ]
  },
  {
   "cell_type": "markdown",
   "metadata": {},
   "source": [
    "### Visualize the simulation"
   ]
  },
  {
   "cell_type": "code",
   "execution_count": 14,
   "metadata": {},
   "outputs": [
    {
     "data": {
      "application/vnd.jupyter.widget-view+json": {
       "model_id": "e5afc83f516d47d0a4d27512cfb740fe",
       "version_major": 2,
       "version_minor": 0
      },
      "text/plain": [
       "interactive(children=(IntSlider(value=0, description='step', max=30), Output()), _dom_classes=('widget-interac…"
      ]
     },
     "metadata": {},
     "output_type": "display_data"
    },
    {
     "data": {
      "text/plain": [
       "<function __main__.draw_simulation_step_3(step)>"
      ]
     },
     "execution_count": 14,
     "metadata": {},
     "output_type": "execute_result"
    }
   ],
   "source": [
    "canvas_3 = Canvas(width=800, height=800)\n",
    "grid_drawer_3 = GridDrawer(canvas_3)\n",
    "\n",
    "def draw_simulation_step_3(step):\n",
    "    return grid_drawer_3.draw(states_3[step])\n",
    "\n",
    "interact(draw_simulation_step_3, step=widgets.IntSlider(min=0, max=30, step=1, value=0))"
   ]
  },
  {
   "cell_type": "markdown",
   "metadata": {},
   "source": [
    "# Task 4"
   ]
  },
  {
   "cell_type": "markdown",
   "metadata": {},
   "source": [
    "## Looking at the Bottleneck scenario with rudimentary obstacle avoidance"
   ]
  },
  {
   "cell_type": "markdown",
   "metadata": {},
   "source": [
    "## Create the grid"
   ]
  },
  {
   "cell_type": "code",
   "execution_count": 15,
   "metadata": {},
   "outputs": [],
   "source": [
    "grid = Grid(\n",
    "    rows=10,\n",
    "    columns=25,\n",
    "    pedestrians=[\n",
    "        ((1, 0),1),\n",
    "        ((2, 0),1),\n",
    "        ((3, 0),1),\n",
    "        ((4, 0),1),\n",
    "        ((5, 0),1),\n",
    "        ((6, 0),1)\n",
    "    ],\n",
    "    obstacles=[(0,12),(1,12),(2,12),(3,12),(4,12),(6,12),(7,12),(8,12),(9,12)],\n",
    "    target=(5, 24)\n",
    ")"
   ]
  },
  {
   "cell_type": "markdown",
   "metadata": {},
   "source": [
    "## Use the obstacle avoiding update scheme"
   ]
  },
  {
   "cell_type": "code",
   "execution_count": 16,
   "metadata": {},
   "outputs": [],
   "source": [
    "update_scheme = EuclideanObstacleAvoidingUpdateScheme(1.5)\n",
    "states_4 = simulate(grid, update_scheme, 30)"
   ]
  },
  {
   "cell_type": "markdown",
   "metadata": {},
   "source": [
    "## Visualize the scenario"
   ]
  },
  {
   "cell_type": "code",
   "execution_count": 17,
   "metadata": {},
   "outputs": [
    {
     "data": {
      "application/vnd.jupyter.widget-view+json": {
       "model_id": "258c2116ef564702a7d70ab7fbaa9b01",
       "version_major": 2,
       "version_minor": 0
      },
      "text/plain": [
       "interactive(children=(IntSlider(value=0, description='step', max=25), Output()), _dom_classes=('widget-interac…"
      ]
     },
     "metadata": {},
     "output_type": "display_data"
    },
    {
     "data": {
      "text/plain": [
       "<function __main__.draw_simulation_step_4(step)>"
      ]
     },
     "execution_count": 17,
     "metadata": {},
     "output_type": "execute_result"
    }
   ],
   "source": [
    "canvas_4 = Canvas(width=500, height=200)\n",
    "grid_drawer_4 = GridDrawer(canvas_4)\n",
    "\n",
    "def draw_simulation_step_4(step):\n",
    "    return grid_drawer_4.draw(states_4[step])\n",
    "\n",
    "interact(draw_simulation_step_4, step=widgets.IntSlider(min=0, max=25, step=1, value=0))"
   ]
  },
  {
   "cell_type": "markdown",
   "metadata": {},
   "source": [
    "## Next the chicken test scenario"
   ]
  },
  {
   "cell_type": "code",
   "execution_count": 18,
   "metadata": {},
   "outputs": [],
   "source": [
    "grid = Grid(\n",
    "    rows=25,\n",
    "    columns=25,\n",
    "    pedestrians=[\n",
    "        ((12, 0),1)\n",
    "    ],\n",
    "    obstacles=[(5,10),(5,11),(5,12),(5,13),(5,14),(5,15),\n",
    "               (15,10),(15,11),(15,12),(15,13),(15,14),(15,15),\n",
    "              (5,16),(6,16),(7,16),(8,16),(9,16),(10,16),(11,16),(12,16),(13,16),(14,16),(15,16)],\n",
    "    target=(12, 24)\n",
    ")"
   ]
  },
  {
   "cell_type": "markdown",
   "metadata": {},
   "source": [
    "## Still using the basic obstacle avoidance scheme"
   ]
  },
  {
   "cell_type": "code",
   "execution_count": 19,
   "metadata": {},
   "outputs": [],
   "source": [
    "update_scheme = EuclideanObstacleAvoidingUpdateScheme(1.5)\n",
    "states_5 = simulate(grid, update_scheme, 30)"
   ]
  },
  {
   "cell_type": "markdown",
   "metadata": {},
   "source": [
    "## Visualize the scenario"
   ]
  },
  {
   "cell_type": "code",
   "execution_count": 20,
   "metadata": {},
   "outputs": [
    {
     "data": {
      "application/vnd.jupyter.widget-view+json": {
       "model_id": "924d6abbefae4ade854c29dbad179944",
       "version_major": 2,
       "version_minor": 0
      },
      "text/plain": [
       "interactive(children=(IntSlider(value=0, description='step', max=30), Output()), _dom_classes=('widget-interac…"
      ]
     },
     "metadata": {},
     "output_type": "display_data"
    },
    {
     "data": {
      "text/plain": [
       "<function __main__.draw_simulation_step_5(step)>"
      ]
     },
     "execution_count": 20,
     "metadata": {},
     "output_type": "execute_result"
    }
   ],
   "source": [
    "canvas_5 = Canvas(width=500, height=500)\n",
    "grid_drawer_5 = GridDrawer(canvas_5)\n",
    "\n",
    "def draw_simulation_step_5(step):\n",
    "    return grid_drawer_5.draw(states_5[step])\n",
    "\n",
    "interact(draw_simulation_step_5, step=widgets.IntSlider(min=0, max=30, step=1, value=0))"
   ]
  },
  {
   "cell_type": "markdown",
   "metadata": {},
   "source": [
    "## Looking at the previous scenarios with the Dijkstra algorithm"
   ]
  },
  {
   "cell_type": "markdown",
   "metadata": {},
   "source": [
    "## Bottleneck scenario "
   ]
  },
  {
   "cell_type": "code",
   "execution_count": 22,
   "metadata": {},
   "outputs": [
    {
     "data": {
      "application/vnd.jupyter.widget-view+json": {
       "model_id": "3b0065b4a2b54d33bf5679413ddb2d26",
       "version_major": 2,
       "version_minor": 0
      },
      "text/plain": [
       "interactive(children=(IntSlider(value=0, description='step', max=25), Output()), _dom_classes=('widget-interac…"
      ]
     },
     "metadata": {},
     "output_type": "display_data"
    },
    {
     "data": {
      "text/plain": [
       "<function __main__.draw_simulation_step_6(step)>"
      ]
     },
     "execution_count": 22,
     "metadata": {},
     "output_type": "execute_result"
    }
   ],
   "source": [
    "grid = Grid(\n",
    "    rows=10,\n",
    "    columns=25,\n",
    "    pedestrians=[\n",
    "        ((1, 0),1),\n",
    "        ((2, 0),1),\n",
    "        ((3, 0),1),\n",
    "        ((4, 0),1),\n",
    "        ((5, 0),1),\n",
    "        ((6, 0),1)\n",
    "    ],\n",
    "    obstacles=[(0,12),(1,12),(2,12),(3,12),(4,12),(6,12),(7,12),(8,12),(9,12)],\n",
    "    target=(5, 24)\n",
    ")\n",
    "update_scheme = DijkstraUpdateScheme()\n",
    "states_6 = simulate(grid, update_scheme, 30,avoid_overlapping = True)\n",
    "canvas_6 = Canvas(width=500, height=200)\n",
    "grid_drawer_6 = GridDrawer(canvas_6)\n",
    "\n",
    "def draw_simulation_step_6(step):\n",
    "    return grid_drawer_6.draw(states_6[step])\n",
    "\n",
    "interact(draw_simulation_step_6, step=widgets.IntSlider(min=0, max=25, step=1, value=0))\n"
   ]
  },
  {
   "cell_type": "markdown",
   "metadata": {},
   "source": [
    "## Chicken test scenario"
   ]
  },
  {
   "cell_type": "code",
   "execution_count": 23,
   "metadata": {},
   "outputs": [
    {
     "data": {
      "application/vnd.jupyter.widget-view+json": {
       "model_id": "ac21c03dd78f4d3184ee9383b7662e4e",
       "version_major": 2,
       "version_minor": 0
      },
      "text/plain": [
       "interactive(children=(IntSlider(value=0, description='step', max=30), Output()), _dom_classes=('widget-interac…"
      ]
     },
     "metadata": {},
     "output_type": "display_data"
    },
    {
     "data": {
      "text/plain": [
       "<function __main__.draw_simulation_step_7(step)>"
      ]
     },
     "execution_count": 23,
     "metadata": {},
     "output_type": "execute_result"
    }
   ],
   "source": [
    "grid = Grid(\n",
    "    rows=25,\n",
    "    columns=25,\n",
    "    pedestrians=[\n",
    "        ((12, 0),1)\n",
    "    ],\n",
    "    obstacles=[(5,10),(5,11),(5,12),(5,13),(5,14),(5,15),\n",
    "               (15,10),(15,11),(15,12),(15,13),(15,14),(15,15),\n",
    "              (5,16),(6,16),(7,16),(8,16),(9,16),(10,16),(11,16),(12,16),(13,16),(14,16),(15,16)],\n",
    "    target=(12, 24)\n",
    ")\n",
    "update_scheme = DijkstraUpdateScheme()\n",
    "states_7 = simulate(grid, update_scheme, 30)\n",
    "canvas_7 = Canvas(width=500, height=500)\n",
    "grid_drawer_7 = GridDrawer(canvas_7)\n",
    "\n",
    "def draw_simulation_step_7(step):\n",
    "    return grid_drawer_7.draw(states_7[step])\n",
    "\n",
    "interact(draw_simulation_step_7, step=widgets.IntSlider(min=0, max=30, step=1, value=0))"
   ]
  },
  {
   "cell_type": "markdown",
   "metadata": {},
   "source": [
    "# Task 5"
   ]
  },
  {
   "cell_type": "markdown",
   "metadata": {},
   "source": [
    "### TEST1: RiMEA scenario 1"
   ]
  },
  {
   "cell_type": "markdown",
   "metadata": {},
   "source": [
    "1 cell = 0.4m X 0.4m\n",
    "\n",
    "40m = 100 cells (width of the canvas)\n",
    "\n",
    "2m = 5 cells (height of the canvas)\n",
    "\n",
    "Pedestrian speed = 1.33 m/s = 3.3 cell/s = (assume 1step = 5s) = 0.66 cell/step\n",
    "\n",
    "Upper border is 34 seconds = 170 steps => so let's simulate for 170 steps\n",
    "\n",
    "We should be able to observe how the pedestrian reaches the target between step 130 and 170\n",
    "\n",
    "\n"
   ]
  },
  {
   "cell_type": "code",
   "execution_count": 24,
   "metadata": {},
   "outputs": [
    {
     "data": {
      "application/vnd.jupyter.widget-view+json": {
       "model_id": "05504f583ff648feb41d76842070cac3",
       "version_major": 2,
       "version_minor": 0
      },
      "text/plain": [
       "interactive(children=(IntSlider(value=0, description='step', max=170), Output()), _dom_classes=('widget-intera…"
      ]
     },
     "metadata": {},
     "output_type": "display_data"
    },
    {
     "data": {
      "text/plain": [
       "<function __main__.draw_simulation_step_8(step)>"
      ]
     },
     "execution_count": 24,
     "metadata": {},
     "output_type": "execute_result"
    }
   ],
   "source": [
    "grid = Grid(\n",
    "    rows=5,\n",
    "    columns=100,\n",
    "    pedestrians=[\n",
    "        ((2, 0),0.66)\n",
    "    ],\n",
    "    obstacles=[],\n",
    "    target=(2, 99)\n",
    ")\n",
    "update_scheme = EuclideanUpdateScheme()\n",
    "states_8 = simulate(grid, update_scheme, 170)\n",
    "canvas_8 = Canvas(width=500, height=25)\n",
    "grid_drawer_8 = GridDrawer(canvas_8)\n",
    "\n",
    "def draw_simulation_step_8(step):\n",
    "    return grid_drawer_8.draw(states_8[step])\n",
    "\n",
    "interact(draw_simulation_step_8, step=widgets.IntSlider(min=0, max=170, step=1, value=0))"
   ]
  },
  {
   "cell_type": "markdown",
   "metadata": {},
   "source": [
    "### TEST2: RiMEA scenario 4\n",
    "\n",
    "I have no idea what to say about this :) Please, invent something."
   ]
  },
  {
   "cell_type": "code",
   "execution_count": 31,
   "metadata": {},
   "outputs": [
    {
     "name": "stdout",
     "output_type": "stream",
     "text": [
      "25 2500\n",
      "Creating 100 pedestrians\n",
      "Simulated step 0\n",
      "Simulated step 10\n",
      "Simulated step 20\n",
      "Simulated step 30\n",
      "Simulated step 40\n",
      "Simulated step 50\n",
      "Simulated step 60\n",
      "Simulated step 70\n",
      "Simulated step 80\n",
      "Simulated step 90\n",
      "Simulated step 100\n",
      "Simulated step 110\n",
      "Simulated step 120\n",
      "Simulated step 130\n",
      "Simulated step 140\n",
      "Simulated step 150\n",
      "Simulated step 160\n",
      "Simulated step 170\n",
      "Simulated step 180\n",
      "Simulated step 190\n",
      "Simulated step 200\n",
      "Simulated step 210\n",
      "Simulated step 220\n",
      "Simulated step 230\n",
      "Simulated step 240\n",
      "Simulated step 250\n",
      "Simulated step 260\n",
      "Simulated step 270\n",
      "Simulated step 280\n",
      "Simulated step 290\n",
      "The Average speed is\n",
      "0.0801538954793203\n",
      "m/s\n"
     ]
    }
   ],
   "source": [
    "cell = 0.4\n",
    "length = 1000\n",
    "width = 10\n",
    "rows = int(width / cell)\n",
    "columns = int(length / cell)\n",
    "print(rows, columns)\n",
    "density = 0.01 # P/m2\n",
    "n_pedestrians = int(length * width * density)\n",
    "print(\"Creating {} pedestrians\".format(n_pedestrians))\n",
    "pedestrians = [\n",
    "    ((int(np.random.uniform(0, rows)), int(np.random.uniform(0, columns))), 0.66)\n",
    "    for i in range(n_pedestrians)\n",
    "]\n",
    "grid = Grid(\n",
    "    rows=rows,\n",
    "    columns=columns,\n",
    "    pedestrians=pedestrians,\n",
    "    obstacles=[],\n",
    "    target=(rows // 2, columns-1)\n",
    ")\n",
    "update_scheme = EuclideanUpdateScheme()\n",
    "states_9 = simulate(grid, update_scheme, 300, report_every=10) # 1 step = 5 seconds; 60 seconds = 300 steps\n",
    "\n",
    "measure_point = (2/cell,2/cell,4/cell,499/cell)\n",
    "\n",
    "steps_needed = np.full(n_pedestrians, 0, dtype=int)\n",
    "\n",
    "\n",
    "def in_bounds(cell: (int,int), area: (int,int,int,int)) -> bool:\n",
    "    if cell[0] >= area[0] and cell[0] < area[0] + area[2]:\n",
    "        if cell[1] >= area[1] and cell[1] < area[1] + area[3]:\n",
    "            return True\n",
    "    return False\n",
    "\n",
    "total_speed = 0\n",
    "amount = 0\n",
    "\n",
    "for grid in states_9:\n",
    "    pedestrians = grid.pedestrians\n",
    "    for key in pedestrians.keys():\n",
    "        if in_bounds(pedestrians[key][0],measure_point):\n",
    "            steps_needed[key-10] = steps_needed[key-10] + 1\n",
    "total = 0\n",
    "for s in steps_needed:\n",
    "    total = total + s\n",
    "total = total/n_pedestrians\n",
    "\n",
    "print(\"The Average speed is\")\n",
    "print(str(2/(total/5)))\n",
    "print(\"m/s\")\n",
    "    \n",
    "\n",
    "#canvas_9 = Canvas(width=10000, height=2000)\n",
    "#grid_drawer_9 = GridDrawer(canvas_9)\n",
    "\n",
    "#def draw_simulation_step_9(step):\n",
    "#    return grid_drawer_9.draw(states_9[step])\n",
    "\n",
    "#interact(draw_simulation_step_9, step=widgets.IntSlider(min=0, max=300, step=1, value=0))\n"
   ]
  },
  {
   "cell_type": "markdown",
   "metadata": {},
   "source": [
    "### TEST3: RiMEA scenario 6"
   ]
  },
  {
   "cell_type": "code",
   "execution_count": 25,
   "metadata": {},
   "outputs": [
    {
     "data": {
      "application/vnd.jupyter.widget-view+json": {
       "model_id": "29109f991548429ea8fbfa11b7f11b20",
       "version_major": 2,
       "version_minor": 0
      },
      "text/plain": [
       "interactive(children=(IntSlider(value=0, description='step', max=40), Output()), _dom_classes=('widget-interac…"
      ]
     },
     "metadata": {},
     "output_type": "display_data"
    },
    {
     "data": {
      "text/plain": [
       "<function __main__.draw_simulation_step_10(step)>"
      ]
     },
     "execution_count": 25,
     "metadata": {},
     "output_type": "execute_result"
    }
   ],
   "source": [
    "grid = Grid(\n",
    "    rows=30,\n",
    "    columns=30,\n",
    "    pedestrians=[\n",
    "       ((int(np.random.uniform(24, 29)), int(np.random.uniform(0, 15))), 1)\n",
    "        for i in range(20)\n",
    "    ],\n",
    "    obstacles= (\n",
    "        [(29, i) for i in range(30)] + # lower wall\n",
    "        [(i, 29) for i in range(30)] + # right wall\n",
    "        [(23, i) for i in range(23)] + \n",
    "        [(i, 23) for i in range(23)] +\n",
    "        [(23, 23)]\n",
    "    ),\n",
    "    target=(0, 26)\n",
    ")\n",
    "update_scheme = DijkstraUpdateScheme()\n",
    "states_10 = simulate(grid, update_scheme, 40)\n",
    "canvas_10 = Canvas(width=500, height=500)\n",
    "grid_drawer_10 = GridDrawer(canvas_10)\n",
    "\n",
    "def draw_simulation_step_10(step):\n",
    "    return grid_drawer_10.draw(states_10[step])\n",
    "\n",
    "interact(draw_simulation_step_10, step=widgets.IntSlider(min=0, max=40, step=1, value=0))"
   ]
  },
  {
   "cell_type": "markdown",
   "metadata": {},
   "source": [
    "### TEST4: RiMEA scenario 7"
   ]
  },
  {
   "cell_type": "code",
   "execution_count": 66,
   "metadata": {},
   "outputs": [
    {
     "data": {
      "image/png": "[encoded data removed]",
      "text/plain": [
       "<Figure size 432x288 with 1 Axes>"
      ]
     },
     "metadata": {
      "needs_background": "light"
     },
     "output_type": "display_data"
    },
    {
     "data": {
      "image/png": "[encoded data removed]",
      "text/plain": [
       "<Figure size 432x288 with 1 Axes>"
      ]
     },
     "metadata": {
      "needs_background": "light"
     },
     "output_type": "display_data"
    },
    {
     "data": {
      "image/png": "[encoded data removed]",
      "text/plain": [
       "<Figure size 432x288 with 1 Axes>"
      ]
     },
     "metadata": {
      "needs_background": "light"
     },
     "output_type": "display_data"
    }
   ],
   "source": [
    "# This is the data from the graph in Figure 2(the speed is in meters per second)\n",
    "speed = [0.75,1.2,1.5,1.6,1.55,1.51,1.50,1.48,1.45,1.4,1.3,1.25,1.2,1.1,0.9,0.7]\n",
    "age = [5,10,15,20,25,30,35,40,45,50,55,60,65,70,75,80]\n",
    "\n",
    "cell_size = 0.4#meters\n",
    "step_time = 5#seconds\n",
    "time_scale = 20 #Needed because our pedestrians can't move faster than 1 cell per step\n",
    "variance = 0 #Can be used to introduce some random jitter to the speeds\n",
    "age_to_speed = interpolate.interp1d(age,speed,kind = 'linear') #This is the interpolation function\n",
    "\n",
    "plt.plot(age, speed, 'o')\n",
    "\n",
    "plt.show()\n",
    "#Generate 50 pedestrians with random age\n",
    "generated_age = []\n",
    "generated_speed = []\n",
    "for i in range(0,50):\n",
    "    pedestrian_age = int(np.random.uniform(age[0], age[15]))\n",
    "    generated_age.append(pedestrian_age)\n",
    "    pedestrian_speed = age_to_speed(pedestrian_age)\n",
    "    pedestrian_speed = pedestrian_speed + pedestrian_speed * np.random.uniform(-variance,variance)\n",
    "    generated_speed.append(pedestrian_speed)\n",
    "\n",
    "plt.plot(generated_age, generated_speed, 'o') #Seeing the 50 randomly generated pedestrians age and speed\n",
    "\n",
    "plt.show()\n",
    "\n",
    "update_scheme = DijkstraUpdateScheme() #Does not matter too much considering that it is a straight line\n",
    "#Next create a grid for each pedestrian for the pedestrian to walk:\n",
    "length = 25#cells\n",
    "steps_needed = []\n",
    "for i in generated_speed:\n",
    "    \n",
    "    grid = Grid(\n",
    "        rows=3,\n",
    "        columns=length,\n",
    "        pedestrians=[\n",
    "           ((1,0),(((i/time_scale)/cell_size)*step_time))\n",
    "        ],\n",
    "        obstacles= (\n",
    "            [(0, j) for j in range(length)] + # upper wall\n",
    "            [(2, j) for j in range(length)] # lower wall\n",
    "        ),\n",
    "        target=(1, length-1)\n",
    "    )\n",
    "    \n",
    "    states_11 = simulate(grid, update_scheme,100) #If the amount of steps is not high enough, it is possible to get an error because not enough pedestrians reach the target\n",
    "    #Figure out how many steps it took to reach the target:\n",
    "    counter = 0\n",
    "    for s in states_11:\n",
    "        #If the pedestrian has reached the target\n",
    "        if s.pedestrians[10][0] == (1, length-1):\n",
    "            steps_needed.append(counter)\n",
    "            break\n",
    "        counter = counter + 1\n",
    "\n",
    "average_speed = []            \n",
    "for s in steps_needed:\n",
    "    average_speed.append(((length*cell_size) / (s * step_time))*time_scale) #Convert it into meters per second\n",
    "\n",
    "plt.plot(generated_age, average_speed, 'o')\n",
    "\n",
    "plt.show()"
   ]
  },
  {
   "cell_type": "code",
   "execution_count": null,
   "metadata": {},
   "outputs": [],
   "source": []
  },
  {
   "cell_type": "code",
   "execution_count": null,
   "metadata": {},
   "outputs": [],
   "source": []
  },
  {
   "cell_type": "code",
   "execution_count": null,
   "metadata": {},
   "outputs": [],
   "source": []
  }
 ],
 "metadata": {
  "kernelspec": {
   "display_name": "Python 3",
   "language": "python",
   "name": "python3"
  },
  "language_info": {
   "codemirror_mode": {
    "name": "ipython",
    "version": 3
   },
   "file_extension": ".py",
   "mimetype": "text/x-python",
   "name": "python",
   "nbconvert_exporter": "python",
   "pygments_lexer": "ipython3",
   "version": "3.9.4"
  }
 },
 "nbformat": 4,
 "nbformat_minor": 4
}
