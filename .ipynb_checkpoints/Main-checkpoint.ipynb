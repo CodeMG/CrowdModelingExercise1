{
 "cells": [
  {
   "cell_type": "markdown",
   "id": "15377b08-23af-4479-8d2c-90f8127a281b",
   "metadata": {},
   "source": [
    "Import"
   ]
  },
  {
   "cell_type": "code",
   "execution_count": 1,
   "id": "03a94eed-2051-409c-b42b-034b68d7edcf",
   "metadata": {},
   "outputs": [],
   "source": [
    "from ipycanvas import Canvas, hold_canvas\n",
    "import numpy as np\n",
    "from enum import Enum\n",
    "import random"
   ]
  },
  {
   "cell_type": "markdown",
   "id": "0771699f-9e44-4a97-aff1-c9cdb854a43d",
   "metadata": {},
   "source": [
    "Task 1"
   ]
  },
  {
   "cell_type": "code",
   "execution_count": 2,
   "id": "e92fcb68-7934-4bfa-bc9e-8a7ca435ecf2",
   "metadata": {},
   "outputs": [
    {
     "data": {
      "application/vnd.jupyter.widget-view+json": {
       "model_id": "15d7ba77cf5f4db4929e4b1ae9337faa",
       "version_major": 2,
       "version_minor": 0
      },
      "text/plain": [
       "Canvas(height=1000, width=1000)"
      ]
     },
     "metadata": {},
     "output_type": "display_data"
    }
   ],
   "source": [
    "#Parameters\n",
    "\n",
    "#Visualizer set up\n",
    "class GridType(Enum):\n",
    "    EMPTY = 0\n",
    "    PEDESTRIAN = 1\n",
    "    OBSTACLE = 2\n",
    "    TARGET = 3\n",
    "\n",
    "class Grid:\n",
    "    grid_width = 0\n",
    "    grid_height = 0\n",
    "    cell_width = 20\n",
    "    cell_height = 20\n",
    "    grid = np.zeros((grid_width,grid_height),dtype = GridType)\n",
    "    def __init__(self, width, height):\n",
    "        self.grid_width = width\n",
    "        self.grid_height = height\n",
    "        self.grid = np.empty((width,height),dtype = GridType)\n",
    "        for i in range(0,self.grid_width):\n",
    "            for j in range(0,self.grid_height):\n",
    "                self.grid[i,j] = GridType.EMPTY\n",
    "    \n",
    "    def test(self):\n",
    "        for i in range(0,self.grid_width):\n",
    "            for j in range(0,self.grid_height):\n",
    "                if i == 0 or j == 0 or i == self.grid_width -1 or j == self.grid_height - 1:\n",
    "                    self.grid[i,j] = GridType.OBSTACLE\n",
    "        self.grid[5,5] = GridType.PEDESTRIAN\n",
    "        self.grid[15,15] = GridType.TARGET\n",
    "    \n",
    "    def draw(self, canvas):\n",
    "        canvas.clear()\n",
    "        with hold_canvas(canvas):\n",
    "            for i in range(0,self.grid_width):\n",
    "                for j in range(0,self.grid_height):\n",
    "                    if self.grid[i,j] == GridType.EMPTY:\n",
    "                        canvas.stroke_rect(i*self.cell_width,j*self.cell_height,self.cell_width,self.cell_height)\n",
    "                    elif self.grid[i,j] == GridType.PEDESTRIAN:\n",
    "                        canvas.fill_style = 'red'\n",
    "                        canvas.fill_rect(i*self.cell_width,j*self.cell_height,self.cell_width,self.cell_height)\n",
    "                    elif self.grid[i,j] == GridType.OBSTACLE:\n",
    "                        canvas.fill_style = 'black'\n",
    "                        canvas.fill_rect(i*self.cell_width,j*self.cell_height,self.cell_width,self.cell_height)\n",
    "                    elif self.grid[i,j] == GridType.TARGET:\n",
    "                        canvas.fill_style = 'green'\n",
    "                        canvas.fill_rect(i*self.cell_width,j*self.cell_height,self.cell_width,self.cell_height)\n",
    "                        \n",
    "    def euclidean_distance(self,startX,startY,endX,endY):\n",
    "        tmp = (startX - endX)*(startX - endX) + (startY - endY)*(startY - endY)\n",
    "        return np.sqrt(tmp)\n",
    "    \n",
    "    def euclidean_step(self):\n",
    "        #Go thorugh the grid and find the target cell\n",
    "        targetX = -1\n",
    "        targetY = -1\n",
    "        for i in range(0,self.grid_width):\n",
    "            if targetX != -1:\n",
    "                break\n",
    "            for j in range(0,self.grid_height):\n",
    "                if self.grid[i,j] == GridType.TARGET:\n",
    "                    targetX = i\n",
    "                    targetY = j\n",
    "                    break\n",
    "        #Go through grid and find a cell with state P\n",
    "        new_grid = np.empty((self.grid_width,self.grid_height),dtype = GridType)\n",
    "        for i in range(0,self.grid_width):\n",
    "            for j in range(0,self.grid_height):\n",
    "                new_grid[i,j] = GridType.EMPTY\n",
    "        for i in range(0,self.grid_width):\n",
    "            for j in range(0,self.grid_height):\n",
    "                if self.grid[i,j] == GridType.PEDESTRIAN:\n",
    "                    #List of distances for neighbouring cells\n",
    "                    smallest_cost = self.grid_width + self.grid_height #Because the longest distance can't be longer than width + height\n",
    "                    dirX = 0\n",
    "                    dirY = 0\n",
    "                    for x in range(-1,2):\n",
    "                        for y in range (-1,2):\n",
    "                            if i + x >= 0 and i + x < self.grid_width:\n",
    "                                if j + y >= 0 and j+y < self.grid_height:\n",
    "                                    current_cost = self.euclidean_distance(i+x,j+y,targetX,targetY)\n",
    "                                    if current_cost < smallest_cost:\n",
    "                                        smallest_cost = current_cost\n",
    "                                        dirX = x\n",
    "                                        dirY = y\n",
    "                    new_grid[i+dirX,j+dirY] = GridType.PEDESTRIAN\n",
    "                    print(dirX)\n",
    "                    print(dirY)\n",
    "                else:\n",
    "                    if(new_grid[i,j] == GridType.EMPTY):\n",
    "                        new_grid[i,j] = self.grid[i,j]\n",
    "        self.grid = new_grid\n",
    "                                    \n",
    "                    \n",
    "\n",
    "\n",
    "canvas = Canvas(width=1000, height=1000)\n",
    "grid = Grid(50,50)\n",
    "grid.test()\n",
    "grid.draw(canvas)\n",
    "\n",
    "canvas"
   ]
  },
  {
   "cell_type": "code",
   "execution_count": 5,
   "id": "373b517f-ada1-4d30-934a-c00c5a93f639",
   "metadata": {},
   "outputs": [
    {
     "name": "stdout",
     "output_type": "stream",
     "text": [
      "1\n",
      "1\n"
     ]
    },
    {
     "data": {
      "application/vnd.jupyter.widget-view+json": {
       "model_id": "15d7ba77cf5f4db4929e4b1ae9337faa",
       "version_major": 2,
       "version_minor": 0
      },
      "text/plain": [
       "Canvas(height=1000, width=1000)"
      ]
     },
     "metadata": {},
     "output_type": "display_data"
    }
   ],
   "source": [
    "grid.euclidean_step()\n",
    "grid.draw(canvas)\n",
    "canvas"
   ]
  },
  {
   "cell_type": "code",
   "execution_count": null,
   "id": "dc7b63dc-4619-4b50-98c5-67db1ee8b3ee",
   "metadata": {},
   "outputs": [],
   "source": []
  },
  {
   "cell_type": "code",
   "execution_count": null,
   "id": "dab40ca5-a249-4414-93a3-8140a143d376",
   "metadata": {},
   "outputs": [],
   "source": []
  },
  {
   "cell_type": "code",
   "execution_count": null,
   "id": "0983b88e-8185-456f-ad64-a3c8714d8ac8",
   "metadata": {},
   "outputs": [],
   "source": []
  }
 ],
 "metadata": {
  "kernelspec": {
   "display_name": "Python 3",
   "language": "python",
   "name": "python3"
  },
  "language_info": {
   "codemirror_mode": {
    "name": "ipython",
    "version": 3
   },
   "file_extension": ".py",
   "mimetype": "text/x-python",
   "name": "python",
   "nbconvert_exporter": "python",
   "pygments_lexer": "ipython3",
   "version": "3.9.4"
  }
 },
 "nbformat": 4,
 "nbformat_minor": 5
}
